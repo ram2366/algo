{
  "cells": [
    {
      "cell_type": "code",
      "execution_count": null,
      "id": "43e2addf",
      "metadata": {
        "id": "43e2addf"
      },
      "outputs": [],
      "source": [
        "import pandas as pd\n",
        "import yfinance as yf \n",
        "import datetime as dt\n",
        "import talib  \n",
        "import numpy as np\n",
        "from plotly.offline import iplot\n",
        "import cufflinks as cf\n",
        "cf.go_offline()\n",
        "cf.set_config_file(offline=False, world_readable=True)"
      ]
    },
    {
      "cell_type": "code",
      "execution_count": null,
      "id": "70bafc5d",
      "metadata": {
        "id": "70bafc5d"
      },
      "outputs": [],
      "source": [
        "df = pd.DataFrame([[1,2,3,4],[5,6,7,8],[9,10,11,12]], columns = ['col1','col2','col3','col4'])\n",
        "df"
      ]
    },
    {
      "cell_type": "code",
      "execution_count": null,
      "id": "e430e9c7",
      "metadata": {
        "id": "e430e9c7"
      },
      "outputs": [],
      "source": [
        "filter1 = df['col1'] < 9\n",
        "filter2 = df['col3'] > 3\n",
        "\n",
        "filtered_df = df[filter1 & filter2]\n",
        "filtered_df"
      ]
    },
    {
      "cell_type": "markdown",
      "id": "4ae0a595",
      "metadata": {
        "id": "4ae0a595"
      },
      "source": [
        "Op way to fiter things"
      ]
    },
    {
      "cell_type": "code",
      "execution_count": null,
      "id": "02fdc57e",
      "metadata": {
        "id": "02fdc57e"
      },
      "outputs": [],
      "source": [
        "start = dt.datetime(2020,1,1).date()\n",
        "end = dt.datetime(2021,1,15).date()"
      ]
    },
    {
      "cell_type": "code",
      "execution_count": null,
      "id": "7e2a334c",
      "metadata": {
        "id": "7e2a334c"
      },
      "outputs": [],
      "source": [
        "df = pd.DataFrame(yf.download(['BAJAJFINSV.NS'], start, end)['Adj Close'])\n",
        "df.columns = ['Stock_Price']\n",
        "df"
      ]
    },
    {
      "cell_type": "code",
      "execution_count": null,
      "id": "f18c590f",
      "metadata": {
        "id": "f18c590f"
      },
      "outputs": [],
      "source": [
        "df.describe()"
      ]
    },
    {
      "cell_type": "code",
      "execution_count": null,
      "id": "e683f01c",
      "metadata": {
        "id": "e683f01c"
      },
      "outputs": [],
      "source": [
        "# RSI indicitior"
      ]
    },
    {
      "cell_type": "code",
      "execution_count": null,
      "id": "66dda9c7",
      "metadata": {
        "id": "66dda9c7"
      },
      "outputs": [],
      "source": [
        ""
      ]
    },
    {
      "cell_type": "code",
      "execution_count": null,
      "id": "5298e3a0",
      "metadata": {
        "id": "5298e3a0"
      },
      "outputs": [],
      "source": [
        "df['RSI'] = talib.RSI(df['Stock_Price'])\n",
        "df.dropna(inplace = True)\n",
        "df1 = df.copy()\n",
        "df1"
      ]
    },
    {
      "cell_type": "code",
      "execution_count": null,
      "id": "ba9a42e3",
      "metadata": {
        "id": "ba9a42e3"
      },
      "outputs": [],
      "source": [
        "RSI_threshold = 60\n",
        "df1['position'] = np.where(df1['RSI'] > RSI_threshold, 1, 0)\n",
        "df1"
      ]
    },
    {
      "cell_type": "code",
      "execution_count": null,
      "id": "8b4dff3d",
      "metadata": {
        "id": "8b4dff3d"
      },
      "outputs": [],
      "source": [
        "df1[['RSI', 'position']].iplot(secondary_y = ['position'], title = \"RSI and position\", xTitle  = \"Date\", yTitle = \"RSI\")\n",
        "df1[['Stock_Price','position']].iplot(secondary_y = ['position'], title = \"Stock Price and positon\", xTitle = \"Date\", yTitle = \"Stock Price\")"
      ]
    },
    {
      "cell_type": "markdown",
      "id": "afa50d7c",
      "metadata": {
        "id": "afa50d7c"
      },
      "source": [
        "0 for exit and 1 for entry i.e going long"
      ]
    },
    {
      "cell_type": "code",
      "execution_count": null,
      "id": "5ab29db7",
      "metadata": {
        "id": "5ab29db7"
      },
      "outputs": [],
      "source": [
        "df1['Buy_hold_return'] = df1['Stock_Price'].pct_change()\n",
        "df1['RSI_Strategy_return'] = df1['Buy_hold_return'] * df1['position'].shift()\n",
        "df1"
      ]
    },
    {
      "cell_type": "code",
      "execution_count": null,
      "id": "f622247d",
      "metadata": {
        "id": "f622247d"
      },
      "outputs": [],
      "source": [
        "df1['Buy_hold_equity'] = (df1['Buy_hold_return'] +1).cumprod()\n",
        "df1['RSI_Strategy_equity'] = (df1['RSI_Strategy_return'] + 1).cumprod()\n",
        "df1"
      ]
    },
    {
      "cell_type": "code",
      "execution_count": null,
      "id": "18f87177",
      "metadata": {
        "id": "18f87177"
      },
      "outputs": [],
      "source": [
        "df1[['Buy_hold_return', 'RSI_Strategy_return']].iplot(title = \"Comparing Returns\", xTitle = \"Date\", yTitle = \"Return\")\n",
        "df1[['Buy_hold_equity', 'RSI_Strategy_equity']].iplot(title = \"Comparing Equity\", xTitle = \"Date\", yTitle = \"Equity/Wealth\")"
      ]
    },
    {
      "cell_type": "code",
      "execution_count": null,
      "id": "10057cc1",
      "metadata": {
        "id": "10057cc1"
      },
      "outputs": [],
      "source": [
        "print(\"return from buy and hold strategy : \", round((df1['Buy_hold_equity'][-1] -1 ) * 100,2), \"%\")\n",
        "print(\"return RSI strategy : \", round((df1['RSI_Strategy_equity'][-1] -1 ) * 100,2), \"%\")\n",
        "print(\"Rsi threshold : \", RSI_threshold)"
      ]
    },
    {
      "cell_type": "code",
      "execution_count": null,
      "id": "bd8f3157",
      "metadata": {
        "id": "bd8f3157"
      },
      "outputs": [],
      "source": [
        "df1 = df.copy()\n",
        "RSI_threshold = 50\n",
        "df1['position'] = np.where(df1['RSI'] > RSI_threshold, 1, 0)\n",
        "df1[['RSI', 'position']].iplot(secondary_y = ['position'], title = \"RSI and position\", xTitle  = \"Date\", yTitle = \"RSI\")\n",
        "df1[['Stock_Price','position']].iplot(secondary_y = ['position'], title = \"Stock Price and positon\", xTitle = \"Date\", yTitle = \"Stock Price\")"
      ]
    },
    {
      "cell_type": "code",
      "execution_count": null,
      "id": "65968d48",
      "metadata": {
        "id": "65968d48"
      },
      "outputs": [],
      "source": [
        "df1['Buy_hold_return'] = df1['Stock_Price'].pct_change()\n",
        "df1['RSI_Strategy_return'] = df1['Buy_hold_return'] * df1['position'].shift()\n",
        "df1['Buy_hold_equity'] = (df1['Buy_hold_return'] +1).cumprod()\n",
        "df1['RSI_Strategy_equity'] = (df1['RSI_Strategy_return'] + 1).cumprod()\n",
        "df1[['Buy_hold_return', 'RSI_Strategy_return']].iplot(title = \"Comparing Returns\", xTitle = \"Date\", yTitle = \"Return\")\n",
        "df1[['Buy_hold_equity', 'RSI_Strategy_equity']].iplot(title = \"Comparing Equity\", xTitle = \"Date\", yTitle = \"Equity/Wealth\")"
      ]
    },
    {
      "cell_type": "code",
      "execution_count": null,
      "id": "45adec50",
      "metadata": {
        "id": "45adec50"
      },
      "outputs": [],
      "source": [
        "print(\"return from buy and hold strategy : \", round((df1['Buy_hold_equity'][-1] -1 ) * 100,2), \"%\")\n",
        "print(\"return RSI strategy : \", round((df1['RSI_Strategy_equity'][-1] -1 ) * 100,2), \"%\")\n",
        "print(\"Rsi threshold : \", RSI_threshold)"
      ]
    }
  ],
  "metadata": {
    "kernelspec": {
      "display_name": "Python 3 (ipykernel)",
      "language": "python",
      "name": "python3"
    },
    "language_info": {
      "codemirror_mode": {
        "name": "ipython",
        "version": 3
      },
      "file_extension": ".py",
      "mimetype": "text/x-python",
      "name": "python",
      "nbconvert_exporter": "python",
      "pygments_lexer": "ipython3",
      "version": "3.9.7"
    },
    "colab": {
      "name": "Algo.ipynb",
      "provenance": []
    }
  },
  "nbformat": 4,
  "nbformat_minor": 5
}